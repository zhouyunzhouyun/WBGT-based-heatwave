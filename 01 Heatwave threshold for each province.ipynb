{
 "cells": [
  {
   "cell_type": "code",
   "execution_count": 1,
   "id": "743dcef7",
   "metadata": {},
   "outputs": [],
   "source": [
    "\n",
    "import os\n",
    "import threading\n",
    "import numpy as np\n",
    "import pandas as pd\n",
    "import matplotlib.pyplot as plt\n",
    "# import seaborn as sns\n",
    "from osgeo import gdal\n"
   ]
  },
  {
   "cell_type": "code",
   "execution_count": 2,
   "id": "f1b6040b",
   "metadata": {},
   "outputs": [
    {
     "name": "stdout",
     "output_type": "stream",
     "text": [
      "C:\\Users\\HP\\OneDrive\\文档\\02 热浪\\热浪事件分析\n"
     ]
    }
   ],
   "source": [
    "print(os.getcwd()) \n",
    "\n",
    "os.chdir('E:\\\\热浪\\\\data\\\\WBGT\\\\dailyly-table-WBGT')\n"
   ]
  },
  {
   "cell_type": "code",
   "execution_count": 3,
   "id": "98dca517",
   "metadata": {},
   "outputs": [],
   "source": [
    "import re\n",
    "import os\n",
    "import glob\n",
    "import pandas as pd\n",
    "\n",
    "\n",
    "# 为csv文件添加省份字段\n",
    "\n",
    "# os.chdir('E:\\\\热浪\\\\data\\\\WBGT\\\\dailyly-table-WBGT - 2000-2019')\n",
    "\n",
    "# for file in glob.glob('./Daily*.csv'):\n",
    "#     (\n",
    "#         pd\n",
    "#         .read_csv(file)\n",
    "#         .assign(name=re.findall('Daily-(.*?)-', file)[0])\n",
    "#         .to_csv('处理后_'+os.path.split(file)[-1])\n",
    "#           )\n"
   ]
  },
  {
   "cell_type": "code",
   "execution_count": 4,
   "id": "3f7fa28f",
   "metadata": {},
   "outputs": [],
   "source": [
    "# 合并csv文件\n",
    "# os.chdir('E:\\\\热浪\\\\data\\\\WBGT\\\\dailyly-table-WBGT')\n",
    "# extension = 'csv'\n",
    "# all_filenames = [i for i in glob.glob('WBGT-Daily-*.{}'.format(extension))]\n",
    "# #combine all files in the list\n",
    "# combined_csv = pd.concat([pd.read_csv(f,low_memory=False) for f in all_filenames ])\n",
    "# #export to csv\n",
    "# combined_csv.to_csv( \"WBGT-Daily-1980-2019.csv\", index=False)"
   ]
  },
  {
   "cell_type": "code",
   "execution_count": 5,
   "id": "da353036",
   "metadata": {},
   "outputs": [],
   "source": [
    "# 打开 1980-1999每日数据 计算历史时期的温度阈值\n",
    "WBGT_data = pd.read_csv(r'WBGT-Daily-1980-1999.csv',engine='python')\n",
    "WBGT_Daily_data = pd.DataFrame(WBGT_data)\n"
   ]
  },
  {
   "cell_type": "code",
   "execution_count": 6,
   "id": "14af7dc9",
   "metadata": {},
   "outputs": [],
   "source": [
    "# threshold = group = df.groupby(['gender'])\n",
    "Daily_data = WBGT_Daily_data.groupby(['name'])\n",
    "\n",
    "province = pd.DataFrame(Daily_data)\n",
    "province_list = province[0]\n",
    "# print(province_list)"
   ]
  },
  {
   "cell_type": "code",
   "execution_count": 9,
   "id": "56ce979c",
   "metadata": {},
   "outputs": [],
   "source": [
    "threshold = Daily_data[\"WBGT\"].quantile(0.9)\n",
    "\n",
    "threshold.to_csv(r'threshold.csv',index = province_list[0])\n"
   ]
  },
  {
   "cell_type": "code",
   "execution_count": null,
   "id": "a90e18f2",
   "metadata": {},
   "outputs": [],
   "source": []
  }
 ],
 "metadata": {
  "kernelspec": {
   "display_name": "Python 3 (ipykernel)",
   "language": "python",
   "name": "python3"
  },
  "language_info": {
   "codemirror_mode": {
    "name": "ipython",
    "version": 3
   },
   "file_extension": ".py",
   "mimetype": "text/x-python",
   "name": "python",
   "nbconvert_exporter": "python",
   "pygments_lexer": "ipython3",
   "version": "3.8.16"
  }
 },
 "nbformat": 4,
 "nbformat_minor": 5
}
